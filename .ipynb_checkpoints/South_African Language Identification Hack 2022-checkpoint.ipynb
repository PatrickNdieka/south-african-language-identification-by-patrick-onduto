{
 "cells": [
  {
   "cell_type": "markdown",
   "id": "f6a69e07",
   "metadata": {
    "id": "f6a69e07"
   },
   "source": [
    "# <h1 style=\"color:gray;text-align:center;\">SOUTH AFRICA LANGUAGE IDENTIFICATION</h1>\n",
    "\n",
    "#### Overview\n",
    "South Africa is a multicultural society that is characterised by its rich linguistic diversity. Language is an indispensable tool that can be used to deepen democracy and also contribute to the social, cultural, intellectual, economic and political life of the South African society.\n",
    "\n",
    "The country is multilingual with 11 official languages, each of which is guaranteed equal status. Most South Africans are multilingual and able to speak at least two or more of the official languages.\n",
    "From [South African Government](https://www.gov.za/about-sa/south-africas-people)\n",
    "\n",
    "\n",
    "![South Africa Languages Composition](assets/South-Africa-Languages-snapshot.jpg)\n",
    "\n",
    "\n",
    "With such a multilingual population, it is only obvious that our systems and devices also communicate in multi-languages.\n",
    "\n",
    "#### Objective\n",
    "We are going to examine a text which is in any of South Africa's 11 Official languages and identify which language the text is in, NLP's Language Identification: the task of determining the natural language that a piece of text is written in."
   ]
  },
  {
   "cell_type": "markdown",
   "id": "15c5e8ad",
   "metadata": {
    "id": "15c5e8ad"
   },
   "source": [
    "## Imports and Dataset Loading\n",
    "Let's import modules that we are going to use"
   ]
  },
  {
   "cell_type": "code",
   "execution_count": 4,
   "id": "19f09b1e",
   "metadata": {
    "id": "19f09b1e"
   },
   "outputs": [],
   "source": [
    "import warnings # to filter out warnings in the jupyter notebook\n",
    "warnings.filterwarnings('ignore') # we will ignore all warning and not show them\n",
    "\n",
    "# Imports to load, explore, wrangle and visualize\n",
    "import numpy as np # for working with our array objects\n",
    "import pandas as pd # for loading and manipulateing our datasets\n",
    "import matplotlib.pyplot as plt # for plotting our visualizations\n",
    "import seaborn as sns # for plotting our visualizations\n",
    "\n",
    "# Imports for preprocessing, model development and evaluation\n",
    "from sklearn import metrics # for evaluating the performance of our model\n",
    "from sklearn.preprocessing import LabelEncoder # for encodeing our categorical labels\n",
    "from sklearn.model_selection import train_test_split # for split the train and test data\n",
    "from sklearn.feature_extraction.text import CountVectorizer, TfidfTransformer # for extracting features from the text\n",
    "from sklearn.model_selection import GridSearchCV # for model tuning\n",
    "\n",
    "# model import to consider\n",
    "from sklearn.linear_model import LogisticRegression\n",
    "from sklearn.naive_bayes import MultinomialNB\n",
    "from sklearn.svm import SVC\n",
    "from sklearn.ensemble import RandomForestClassifier"
   ]
  },
  {
   "cell_type": "markdown",
   "id": "b3d01b21",
   "metadata": {
    "id": "b3d01b21"
   },
   "source": [
    "#### Loading the Datasets\n",
    "Let's now load a dataset for training our model"
   ]
  },
  {
   "cell_type": "code",
   "execution_count": 5,
   "id": "8e677466",
   "metadata": {
    "colab": {
     "base_uri": "https://localhost:8080/",
     "height": 206
    },
    "id": "8e677466",
    "outputId": "495f0dfc-648f-4c41-f267-0f99b6de2c70"
   },
   "outputs": [
    {
     "data": {
      "text/html": [
       "\n",
       "  <div id=\"df-fdd319c8-b1f3-4ac8-8779-01c555e3abfa\">\n",
       "    <div class=\"colab-df-container\">\n",
       "      <div>\n",
       "<style scoped>\n",
       "    .dataframe tbody tr th:only-of-type {\n",
       "        vertical-align: middle;\n",
       "    }\n",
       "\n",
       "    .dataframe tbody tr th {\n",
       "        vertical-align: top;\n",
       "    }\n",
       "\n",
       "    .dataframe thead th {\n",
       "        text-align: right;\n",
       "    }\n",
       "</style>\n",
       "<table border=\"1\" class=\"dataframe\">\n",
       "  <thead>\n",
       "    <tr style=\"text-align: right;\">\n",
       "      <th></th>\n",
       "      <th>lang_id</th>\n",
       "      <th>text</th>\n",
       "    </tr>\n",
       "  </thead>\n",
       "  <tbody>\n",
       "    <tr>\n",
       "      <th>0</th>\n",
       "      <td>xho</td>\n",
       "      <td>umgaqo-siseko wenza amalungiselelo kumaziko ax...</td>\n",
       "    </tr>\n",
       "    <tr>\n",
       "      <th>1</th>\n",
       "      <td>xho</td>\n",
       "      <td>i-dha iya kuba nobulumko bokubeka umsebenzi na...</td>\n",
       "    </tr>\n",
       "    <tr>\n",
       "      <th>2</th>\n",
       "      <td>eng</td>\n",
       "      <td>the province of kwazulu-natal department of tr...</td>\n",
       "    </tr>\n",
       "    <tr>\n",
       "      <th>3</th>\n",
       "      <td>nso</td>\n",
       "      <td>o netefatša gore o ba file dilo ka moka tše le...</td>\n",
       "    </tr>\n",
       "    <tr>\n",
       "      <th>4</th>\n",
       "      <td>ven</td>\n",
       "      <td>khomishini ya ndinganyiso ya mbeu yo ewa maana...</td>\n",
       "    </tr>\n",
       "  </tbody>\n",
       "</table>\n",
       "</div>\n",
       "      <button class=\"colab-df-convert\" onclick=\"convertToInteractive('df-fdd319c8-b1f3-4ac8-8779-01c555e3abfa')\"\n",
       "              title=\"Convert this dataframe to an interactive table.\"\n",
       "              style=\"display:none;\">\n",
       "        \n",
       "  <svg xmlns=\"http://www.w3.org/2000/svg\" height=\"24px\"viewBox=\"0 0 24 24\"\n",
       "       width=\"24px\">\n",
       "    <path d=\"M0 0h24v24H0V0z\" fill=\"none\"/>\n",
       "    <path d=\"M18.56 5.44l.94 2.06.94-2.06 2.06-.94-2.06-.94-.94-2.06-.94 2.06-2.06.94zm-11 1L8.5 8.5l.94-2.06 2.06-.94-2.06-.94L8.5 2.5l-.94 2.06-2.06.94zm10 10l.94 2.06.94-2.06 2.06-.94-2.06-.94-.94-2.06-.94 2.06-2.06.94z\"/><path d=\"M17.41 7.96l-1.37-1.37c-.4-.4-.92-.59-1.43-.59-.52 0-1.04.2-1.43.59L10.3 9.45l-7.72 7.72c-.78.78-.78 2.05 0 2.83L4 21.41c.39.39.9.59 1.41.59.51 0 1.02-.2 1.41-.59l7.78-7.78 2.81-2.81c.8-.78.8-2.07 0-2.86zM5.41 20L4 18.59l7.72-7.72 1.47 1.35L5.41 20z\"/>\n",
       "  </svg>\n",
       "      </button>\n",
       "      \n",
       "  <style>\n",
       "    .colab-df-container {\n",
       "      display:flex;\n",
       "      flex-wrap:wrap;\n",
       "      gap: 12px;\n",
       "    }\n",
       "\n",
       "    .colab-df-convert {\n",
       "      background-color: #E8F0FE;\n",
       "      border: none;\n",
       "      border-radius: 50%;\n",
       "      cursor: pointer;\n",
       "      display: none;\n",
       "      fill: #1967D2;\n",
       "      height: 32px;\n",
       "      padding: 0 0 0 0;\n",
       "      width: 32px;\n",
       "    }\n",
       "\n",
       "    .colab-df-convert:hover {\n",
       "      background-color: #E2EBFA;\n",
       "      box-shadow: 0px 1px 2px rgba(60, 64, 67, 0.3), 0px 1px 3px 1px rgba(60, 64, 67, 0.15);\n",
       "      fill: #174EA6;\n",
       "    }\n",
       "\n",
       "    [theme=dark] .colab-df-convert {\n",
       "      background-color: #3B4455;\n",
       "      fill: #D2E3FC;\n",
       "    }\n",
       "\n",
       "    [theme=dark] .colab-df-convert:hover {\n",
       "      background-color: #434B5C;\n",
       "      box-shadow: 0px 1px 3px 1px rgba(0, 0, 0, 0.15);\n",
       "      filter: drop-shadow(0px 1px 2px rgba(0, 0, 0, 0.3));\n",
       "      fill: #FFFFFF;\n",
       "    }\n",
       "  </style>\n",
       "\n",
       "      <script>\n",
       "        const buttonEl =\n",
       "          document.querySelector('#df-fdd319c8-b1f3-4ac8-8779-01c555e3abfa button.colab-df-convert');\n",
       "        buttonEl.style.display =\n",
       "          google.colab.kernel.accessAllowed ? 'block' : 'none';\n",
       "\n",
       "        async function convertToInteractive(key) {\n",
       "          const element = document.querySelector('#df-fdd319c8-b1f3-4ac8-8779-01c555e3abfa');\n",
       "          const dataTable =\n",
       "            await google.colab.kernel.invokeFunction('convertToInteractive',\n",
       "                                                     [key], {});\n",
       "          if (!dataTable) return;\n",
       "\n",
       "          const docLinkHtml = 'Like what you see? Visit the ' +\n",
       "            '<a target=\"_blank\" href=https://colab.research.google.com/notebooks/data_table.ipynb>data table notebook</a>'\n",
       "            + ' to learn more about interactive tables.';\n",
       "          element.innerHTML = '';\n",
       "          dataTable['output_type'] = 'display_data';\n",
       "          await google.colab.output.renderOutput(dataTable, element);\n",
       "          const docLink = document.createElement('div');\n",
       "          docLink.innerHTML = docLinkHtml;\n",
       "          element.appendChild(docLink);\n",
       "        }\n",
       "      </script>\n",
       "    </div>\n",
       "  </div>\n",
       "  "
      ],
      "text/plain": [
       "  lang_id                                               text\n",
       "0     xho  umgaqo-siseko wenza amalungiselelo kumaziko ax...\n",
       "1     xho  i-dha iya kuba nobulumko bokubeka umsebenzi na...\n",
       "2     eng  the province of kwazulu-natal department of tr...\n",
       "3     nso  o netefatša gore o ba file dilo ka moka tše le...\n",
       "4     ven  khomishini ya ndinganyiso ya mbeu yo ewa maana..."
      ]
     },
     "execution_count": 5,
     "metadata": {},
     "output_type": "execute_result"
    }
   ],
   "source": [
    "df = pd.read_csv('train_set.csv') # load training dataset\n",
    "df.head() # View the first five rows of dataset"
   ]
  },
  {
   "cell_type": "markdown",
   "id": "76171aca",
   "metadata": {
    "id": "76171aca"
   },
   "source": [
    "Viewing the first few rows of our data set, we can see that we have a **``lang_id``** column identifying the south african language, and a **``text``** column that has text specific to that language.\n",
    "We are going to train a model that can correctly identify the language of a given text using these two columns."
   ]
  },
  {
   "cell_type": "markdown",
   "id": "2a849d7b",
   "metadata": {
    "id": "2a849d7b"
   },
   "source": [
    "## 1. Exploratory Data Analysis"
   ]
  },
  {
   "cell_type": "markdown",
   "id": "9f17f2c4",
   "metadata": {
    "id": "9f17f2c4"
   },
   "source": [
    "Before diving into training machine learning models, we should look at our dataset for insights.\n",
    "We will explore insights like the distribution of the languages by viewing overall information, the shape of our dataset, and the languages the distribution of texts for each of the languages etc."
   ]
  },
  {
   "cell_type": "markdown",
   "id": "57346360",
   "metadata": {
    "id": "57346360"
   },
   "source": [
    "### 1.0 Overall Insights"
   ]
  },
  {
   "cell_type": "code",
   "execution_count": 6,
   "id": "f182ff64",
   "metadata": {
    "colab": {
     "base_uri": "https://localhost:8080/"
    },
    "id": "f182ff64",
    "outputId": "73a4b325-d197-4694-9833-9be71b9326a4"
   },
   "outputs": [
    {
     "data": {
      "text/plain": [
       "(29087, 2)"
      ]
     },
     "execution_count": 6,
     "metadata": {},
     "output_type": "execute_result"
    }
   ],
   "source": [
    "# View the shape of the dataset\n",
    "df.shape"
   ]
  },
  {
   "cell_type": "code",
   "execution_count": 7,
   "id": "a72b345d",
   "metadata": {
    "colab": {
     "base_uri": "https://localhost:8080/"
    },
    "id": "a72b345d",
    "outputId": "13133fed-986b-40a1-a0e6-b9b730b45058",
    "scrolled": true
   },
   "outputs": [
    {
     "name": "stdout",
     "output_type": "stream",
     "text": [
      "<class 'pandas.core.frame.DataFrame'>\n",
      "RangeIndex: 29087 entries, 0 to 29086\n",
      "Data columns (total 2 columns):\n",
      " #   Column   Non-Null Count  Dtype \n",
      "---  ------   --------------  ----- \n",
      " 0   lang_id  29087 non-null  object\n",
      " 1   text     29087 non-null  object\n",
      "dtypes: object(2)\n",
      "memory usage: 454.6+ KB\n"
     ]
    }
   ],
   "source": [
    "# View the information of the dataset\n",
    "df.info()"
   ]
  },
  {
   "cell_type": "code",
   "execution_count": 8,
   "id": "a0919cf1",
   "metadata": {
    "colab": {
     "base_uri": "https://localhost:8080/"
    },
    "id": "a0919cf1",
    "outputId": "5b291780-9005-47bf-fa1a-e862ada1226f"
   },
   "outputs": [
    {
     "data": {
      "text/plain": [
       "lang_id    0\n",
       "text       0\n",
       "dtype: int64"
      ]
     },
     "execution_count": 8,
     "metadata": {},
     "output_type": "execute_result"
    }
   ],
   "source": [
    "# View the missing values in the dataset\n",
    "df.isna().sum()"
   ]
  },
  {
   "cell_type": "markdown",
   "id": "28e4a907",
   "metadata": {
    "id": "28e4a907"
   },
   "source": [
    "- The dataset has *33,000 rows and 2 columns*. Also, all of the columns are of *object* data type and that there are no missing values in our dataset."
   ]
  },
  {
   "cell_type": "markdown",
   "id": "c1899ac8",
   "metadata": {
    "id": "c1899ac8"
   },
   "source": [
    "### 1.1 Language Distribution"
   ]
  },
  {
   "cell_type": "markdown",
   "id": "0a2ef37a",
   "metadata": {
    "id": "0a2ef37a"
   },
   "source": [
    "Let's now look at the distribution of the dataset according to the languages:"
   ]
  },
  {
   "cell_type": "code",
   "execution_count": 9,
   "id": "59785034",
   "metadata": {
    "colab": {
     "base_uri": "https://localhost:8080/"
    },
    "id": "59785034",
    "outputId": "9539e051-3f63-4d1f-d969-a3f3370a2661"
   },
   "outputs": [
    {
     "name": "stdout",
     "output_type": "stream",
     "text": [
      "There are 11 in total\n"
     ]
    },
    {
     "data": {
      "text/plain": [
       "['afr', 'eng', 'nbl', 'nso', 'sot', 'ssw', 'tsn', 'tso', 'ven', 'xho', 'zul']"
      ]
     },
     "execution_count": 9,
     "metadata": {},
     "output_type": "execute_result"
    }
   ],
   "source": [
    "languages = df['lang_id'].unique().tolist() # Get all the unique languages\n",
    "print(f'There are {len(languages)} in total') # Let's see how many there are\n",
    "sorted(languages) # Let's view the languages"
   ]
  },
  {
   "cell_type": "code",
   "execution_count": 10,
   "id": "6e068c59",
   "metadata": {
    "colab": {
     "base_uri": "https://localhost:8080/",
     "height": 280
    },
    "id": "6e068c59",
    "outputId": "54c98611-e7e3-4bf6-9d39-a8d3ac9fb7e0"
   },
   "outputs": [
    {
     "data": {
      "image/png": "[encoded data removed]",
      "text/plain": [
       "<Figure size 432x288 with 1 Axes>"
      ]
     },
     "metadata": {
      "needs_background": "light"
     },
     "output_type": "display_data"
    }
   ],
   "source": [
    "df['lang_id'].value_counts() # Get the number of values per language\n",
    "ax = sns.countplot(df['lang_id'], data = df, color='Orange') # Plot a bar plot to visualize the distribution"
   ]
  },
  {
   "cell_type": "markdown",
   "id": "463a574e",
   "metadata": {
    "id": "463a574e"
   },
   "source": [
    "- In total there are *11* languages that we will be predict for\n",
    "- The data is distributed uniformly among the 11 languages hence we have balance data"
   ]
  },
  {
   "cell_type": "markdown",
   "id": "7ac948b1",
   "metadata": {
    "id": "7ac948b1"
   },
   "source": [
    "### 1.1 Text Distribution"
   ]
  },
  {
   "cell_type": "code",
   "execution_count": 11,
   "id": "afb5041b",
   "metadata": {
    "colab": {
     "base_uri": "https://localhost:8080/",
     "height": 675
    },
    "id": "afb5041b",
    "outputId": "eea07f1e-efb6-42bf-cf07-c0fbf2f23c3d"
   },
   "outputs": [
    {
     "data": {
      "text/plain": [
       "<seaborn.axisgrid.FacetGrid at 0x7fde18f4d850>"
      ]
     },
     "execution_count": 11,
     "metadata": {},
     "output_type": "execute_result"
    },
    {
     "data": {
      "image/png": "[encoded data removed]",
      "text/plain": [
       "<Figure size 864x648 with 11 Axes>"
      ]
     },
     "metadata": {
      "needs_background": "light"
     },
     "output_type": "display_data"
    }
   ],
   "source": [
    "text_dist = df.copy() # Make copy of dataframe\n",
    "# Split the text into a list of words and count the number of words in the text\n",
    "text_dist['words'] = text_dist['text'].apply(\n",
    "    lambda text: len(text.split())\n",
    ") \n",
    "\n",
    "fig = sns.FacetGrid(text_dist, col = 'lang_id',col_wrap=4, hue='lang_id') # Create a grid to visualize the languages\n",
    "fig.map(sns.histplot, 'words')  # plot a histogram to visualize the ditribution of words for each of the languages"
   ]
  },
  {
   "cell_type": "markdown",
   "id": "3e700fbb",
   "metadata": {
    "id": "3e700fbb"
   },
   "source": [
    "## 2. Data Processing/Engineering"
   ]
  },
  {
   "cell_type": "markdown",
   "id": "eb2650ad",
   "metadata": {
    "id": "eb2650ad"
   },
   "source": [
    "For our models to process our data, we need to transform the text to more manageable representations. We will use the ``Labelencoder`` to encode our our labels and to also extract our features from the text using the ``TFIDFTransformerr``. Skit learn's ``TFIDFTransformer`` calculates a measure called Term Frequency, Inverse Document Frequency, abbreviated to tf-idf.\n",
    "Before we transform our text, we will use ``CounterVectorizer`` to create our bag of words model."
   ]
  },
  {
   "cell_type": "markdown",
   "id": "af272c1e",
   "metadata": {
    "id": "af272c1e"
   },
   "source": [
    "Let's encode the **``lang_id``** as the target labels"
   ]
  },
  {
   "cell_type": "code",
   "execution_count": 12,
   "id": "7d9c0bc5",
   "metadata": {
    "colab": {
     "base_uri": "https://localhost:8080/"
    },
    "id": "7d9c0bc5",
    "outputId": "970b38f4-cc12-4b13-c255-c641cebf9ed9"
   },
   "outputs": [
    {
     "data": {
      "text/plain": [
       "LabelEncoder()"
      ]
     },
     "execution_count": 12,
     "metadata": {},
     "output_type": "execute_result"
    }
   ],
   "source": [
    "le = LabelEncoder() # Instatiate an encoder of our labels\n",
    "le.fit(df['lang_id']) # Let's encode our label data"
   ]
  },
  {
   "cell_type": "markdown",
   "id": "cc8cb2df",
   "metadata": {
    "id": "cc8cb2df"
   },
   "source": [
    "Let's now access our classes and view them"
   ]
  },
  {
   "cell_type": "code",
   "execution_count": 13,
   "id": "689a590f",
   "metadata": {
    "colab": {
     "base_uri": "https://localhost:8080/"
    },
    "id": "689a590f",
    "outputId": "2447d0a5-ace5-4d83-e737-e2554b7dc4ea"
   },
   "outputs": [
    {
     "data": {
      "text/plain": [
       "array(['afr', 'eng', 'nbl', 'nso', 'sot', 'ssw', 'tsn', 'tso', 'ven',\n",
       "       'xho', 'zul'], dtype=object)"
      ]
     },
     "execution_count": 13,
     "metadata": {},
     "output_type": "execute_result"
    }
   ],
   "source": [
    "le.classes_"
   ]
  },
  {
   "cell_type": "markdown",
   "id": "85bbef36",
   "metadata": {
    "id": "85bbef36"
   },
   "source": [
    "Now, let's extact and transform our text features using skit learn's ``CounterVectorizer`` and ``TfidfTransformer`` respectively.\n",
    "We instantiate the vectorizer with the following:\n",
    "- **min_df** of *2*, the minimum numbers of documents a word must be present in to be kept.\n",
    "- **ngram_range** is set to *(1, 2)* to indicate that we want to consider both unigrams and bigrams."
   ]
  },
  {
   "cell_type": "code",
   "execution_count": 14,
   "id": "2ae9965e",
   "metadata": {
    "id": "2ae9965e"
   },
   "outputs": [],
   "source": [
    "vect = CountVectorizer(\n",
    "    min_df = 2,\n",
    "    ngram_range = (1, 2)\n",
    ") # Instatiate vectorizer with min_df = 2 and ngram_range = (1, 2)\n",
    "tfidf_trans = TfidfTransformer() # Instatiate our TFIDF transformer\n",
    "\n",
    "X = vect.fit_transform(df['text']) # vectorize  the text to get our features\n",
    "X_trans = tfidf_trans.fit_transform(X) # transform the vectorized text\n",
    "\n",
    "y = le.transform(df['lang_id']) # Transform our lang_id to get our target"
   ]
  },
  {
   "cell_type": "code",
   "execution_count": 15,
   "id": "b5f07e6d",
   "metadata": {
    "colab": {
     "base_uri": "https://localhost:8080/"
    },
    "id": "b5f07e6d",
    "outputId": "80990ddc-1403-4c81-d14c-34f5758bb5eb"
   },
   "outputs": [
    {
     "name": "stdout",
     "output_type": "stream",
     "text": [
      "(29087, 182110)\n"
     ]
    }
   ],
   "source": [
    "# Now let's view the shape of our features\n",
    "print(X_trans.shape)"
   ]
  },
  {
   "cell_type": "markdown",
   "id": "625c3d18",
   "metadata": {
    "id": "625c3d18"
   },
   "source": [
    "Now, each of 33000 language classifications is represented by 207493 features, representing the tf-idf score for different unigrams and bigrams."
   ]
  },
  {
   "cell_type": "markdown",
   "id": "7402b6c2",
   "metadata": {
    "id": "7402b6c2"
   },
   "source": [
    "## 3. Model Development"
   ]
  },
  {
   "cell_type": "markdown",
   "id": "4bfec434",
   "metadata": {
    "id": "4bfec434"
   },
   "source": [
    "Having transformed and created all the features and labels, it is time to train the classifiers. There are a number of algorithms we can use for this type of problem, but we will consider four of them i.e.:\n",
    "1. (MultinomialNB) Naive Bayes Classifier\n",
    "2. LogisticRegression Classifier\n",
    "3. (SVC) Support Vector Machine Classifier\n",
    "4. Random Forest Classifier"
   ]
  },
  {
   "cell_type": "markdown",
   "id": "7055bb3f",
   "metadata": {
    "id": "7055bb3f"
   },
   "source": [
    "We will split the features and labels to training and testing sets, create a function to fit our models and finally fit the four model."
   ]
  },
  {
   "cell_type": "markdown",
   "id": "0e0886f5",
   "metadata": {
    "id": "0e0886f5"
   },
   "source": [
    "## 3.1. Model Training"
   ]
  },
  {
   "cell_type": "markdown",
   "id": "be84cec0",
   "metadata": {
    "id": "be84cec0"
   },
   "source": [
    "We, will split other features and labels to training and testing sets to have our ``X_train``, ``y_train`` , ``X_test`` and ``y_test``. This will help us to train and evaluate the performance of our fitted models on the unseen data"
   ]
  },
  {
   "cell_type": "code",
   "execution_count": 16,
   "id": "0585caee",
   "metadata": {
    "id": "0585caee"
   },
   "outputs": [],
   "source": [
    "# Split the labels and target into training and testing sets\n",
    "X_train, X_test, y_train, y_test = train_test_split(X_trans, y, test_size=0.3, random_state=42)"
   ]
  },
  {
   "cell_type": "markdown",
   "id": "d62cc016",
   "metadata": {
    "id": "d62cc016"
   },
   "source": [
    "Let's create a list with the models we are interested to fit and their associated hyperparameters we need to later tune the for better performance"
   ]
  },
  {
   "cell_type": "code",
   "execution_count": 17,
   "id": "e3ec6a88",
   "metadata": {
    "id": "e3ec6a88"
   },
   "outputs": [],
   "source": [
    "# Create a dict containing the various models to evaluate\n",
    "# include the parameters we are interested to tune for each model\n",
    "models_list = [\n",
    "    # define the MultinomialNB Classifier\n",
    "    {\n",
    "        'model': MultinomialNB(), # instantiate the model\n",
    "        'param_grid': { # set hyper parameters for model tuning\n",
    "            'alpha': [0.0001, 0.001, 0.1, 1, 10]\n",
    "        }\n",
    "    },\n",
    "    # define the Logistic Regression Classifier\n",
    "    {\n",
    "        'model': LogisticRegression(), # instantiate the model\n",
    "        'param_grid': { # set hyper parameters for model tuning\n",
    "            'C' : [0.001, 0.01, 0.1],\n",
    "            'max_iter' : [100, 250, 500]\n",
    "        }\n",
    "    },\n",
    "    # define the Random Forest Classifier\n",
    "    {\n",
    "        'model': RandomForestClassifier(), # instantiate the model\n",
    "        'param_grid': { # set hyper parameters for model tuning\n",
    "            'n_estimators': [10, 50, 100, 200],\n",
    "            'max_depth': [3, 10, 20, 40]\n",
    "        }\n",
    "    },\n",
    "    # define the Support Vector Classifier\n",
    "    {\n",
    "        'model': SVC(), # instantiate the model\n",
    "        'param_grid': { # set hyper parameters for model tuning\n",
    "            'gamma': [0.1, 0.01,0.001],\n",
    "        }\n",
    "    },\n",
    "]"
   ]
  },
  {
   "cell_type": "markdown",
   "id": "3ec24d18",
   "metadata": {
    "id": "3ec24d18"
   },
   "source": [
    "Let's then create a function that will take in the ``X_train``, ``y_train`` and the **models** as inputs, and then fits our models on the training data."
   ]
  },
  {
   "cell_type": "code",
   "execution_count": 18,
   "id": "1b42c8a5",
   "metadata": {
    "id": "1b42c8a5"
   },
   "outputs": [],
   "source": [
    "# Function to fit the base models for on the data\n",
    "# to view their initial performance\n",
    "def fit_models(X_train, y_train, models):\n",
    "    models_list = []\n",
    "    for item in models:\n",
    "        model = item['model']\n",
    "        model.fit(X_train, y_train)\n",
    "        models_list.append((model.__class__.__name__, model))\n",
    "    return models_list"
   ]
  },
  {
   "cell_type": "markdown",
   "id": "d9aa678a",
   "metadata": {
    "id": "d9aa678a"
   },
   "source": [
    "Also, lets, create another funstion that will take in ``X_test``, ``y_test`` and the **fitted models** and evaluates them on our selected performances"
   ]
  },
  {
   "cell_type": "code",
   "execution_count": 19,
   "id": "941a50f6",
   "metadata": {
    "id": "941a50f6"
   },
   "outputs": [],
   "source": [
    "# Function to predict targets for X_test\n",
    "# and to return the accuracy and f1 scores, classification report, and confusion matrix\n",
    "def evaluate_models(X_test, y_test, models):\n",
    "    accuracy_scores = []\n",
    "    f1_scores = []\n",
    "    classification_reports = []\n",
    "    confusion_matrices = []\n",
    "\n",
    "    for (name, fitted_model) in fitted_models:\n",
    "        y_pred = fitted_model.predict(X_test)\n",
    "        accuracy_scores.append( # add to accuracy_scores the accuracy of model\n",
    "            metrics.accuracy_score(y_test, y_pred) # find the accuracy\n",
    "        )\n",
    "        f1_scores.append( # add to f1_scores the f1 score of model\n",
    "            metrics.f1_score(y_test, y_pred, average='weighted') # find the f1 score\n",
    "        )\n",
    "        classification_reports.append( # add to f1_scores the f1 score of model\n",
    "            (name.upper(), metrics.classification_report(y_test, y_pred))\n",
    "        )\n",
    "        confusion_matrices.append(\n",
    "            (name.upper(), metrics.confusion_matrix(y_test, y_pred))\n",
    "        )\n",
    "    return f1_scores, classification_reports, confusion_matrices"
   ]
  },
  {
   "cell_type": "markdown",
   "id": "13d4bf4f",
   "metadata": {
    "id": "13d4bf4f"
   },
   "source": [
    "## 3.2. Model Testing"
   ]
  },
  {
   "cell_type": "markdown",
   "id": "02469d34",
   "metadata": {
    "id": "02469d34"
   },
   "source": [
    "We will now train the models"
   ]
  },
  {
   "cell_type": "code",
   "execution_count": 20,
   "id": "3d77c668",
   "metadata": {
    "colab": {
     "base_uri": "https://localhost:8080/"
    },
    "id": "3d77c668",
    "outputId": "6adf1d2d-532f-4a04-db19-5c0191da64e8"
   },
   "outputs": [
    {
     "data": {
      "text/plain": [
       "[('MultinomialNB', MultinomialNB()),\n",
       " ('LogisticRegression', LogisticRegression()),\n",
       " ('RandomForestClassifier', RandomForestClassifier()),\n",
       " ('SVC', SVC())]"
      ]
     },
     "execution_count": 20,
     "metadata": {},
     "output_type": "execute_result"
    }
   ],
   "source": [
    "# Fit the various model\n",
    "fitted_models = fit_models(X_train, y_train, models_list)\n",
    "fitted_models"
   ]
  },
  {
   "cell_type": "markdown",
   "id": "c34cbef9",
   "metadata": {
    "id": "c34cbef9"
   },
   "source": [
    "Let's now evaluate our models to see their f1 and accuracy scoring and "
   ]
  },
  {
   "cell_type": "code",
   "execution_count": 21,
   "id": "b4621f6b",
   "metadata": {
    "id": "b4621f6b"
   },
   "outputs": [],
   "source": [
    "# Now we predict the target for the X_test for the models\n",
    "# and get the accuracy and f1 scores\n",
    "f1_scores, _, _ = evaluate_models(X_test, y_test, fitted_models)"
   ]
  },
  {
   "cell_type": "code",
   "execution_count": 22,
   "id": "2901214c",
   "metadata": {
    "colab": {
     "base_uri": "https://localhost:8080/",
     "height": 175
    },
    "id": "2901214c",
    "outputId": "3a0ac307-afa4-46f0-e23c-ce5e5127c822"
   },
   "outputs": [
    {
     "data": {
      "text/html": [
       "\n",
       "  <div id=\"df-3b73d1a6-cf9e-4459-8785-294ba67442d8\">\n",
       "    <div class=\"colab-df-container\">\n",
       "      <div>\n",
       "<style scoped>\n",
       "    .dataframe tbody tr th:only-of-type {\n",
       "        vertical-align: middle;\n",
       "    }\n",
       "\n",
       "    .dataframe tbody tr th {\n",
       "        vertical-align: top;\n",
       "    }\n",
       "\n",
       "    .dataframe thead th {\n",
       "        text-align: right;\n",
       "    }\n",
       "</style>\n",
       "<table border=\"1\" class=\"dataframe\">\n",
       "  <thead>\n",
       "    <tr style=\"text-align: right;\">\n",
       "      <th></th>\n",
       "      <th>model</th>\n",
       "      <th>f1 score</th>\n",
       "    </tr>\n",
       "  </thead>\n",
       "  <tbody>\n",
       "    <tr>\n",
       "      <th>0</th>\n",
       "      <td>MultinomialNB</td>\n",
       "      <td>0.998396</td>\n",
       "    </tr>\n",
       "    <tr>\n",
       "      <th>1</th>\n",
       "      <td>LogisticRegression</td>\n",
       "      <td>0.995874</td>\n",
       "    </tr>\n",
       "    <tr>\n",
       "      <th>2</th>\n",
       "      <td>RandomForestClassifier</td>\n",
       "      <td>0.987065</td>\n",
       "    </tr>\n",
       "    <tr>\n",
       "      <th>3</th>\n",
       "      <td>SVC</td>\n",
       "      <td>0.995993</td>\n",
       "    </tr>\n",
       "  </tbody>\n",
       "</table>\n",
       "</div>\n",
       "      <button class=\"colab-df-convert\" onclick=\"convertToInteractive('df-3b73d1a6-cf9e-4459-8785-294ba67442d8')\"\n",
       "              title=\"Convert this dataframe to an interactive table.\"\n",
       "              style=\"display:none;\">\n",
       "        \n",
       "  <svg xmlns=\"http://www.w3.org/2000/svg\" height=\"24px\"viewBox=\"0 0 24 24\"\n",
       "       width=\"24px\">\n",
       "    <path d=\"M0 0h24v24H0V0z\" fill=\"none\"/>\n",
       "    <path d=\"M18.56 5.44l.94 2.06.94-2.06 2.06-.94-2.06-.94-.94-2.06-.94 2.06-2.06.94zm-11 1L8.5 8.5l.94-2.06 2.06-.94-2.06-.94L8.5 2.5l-.94 2.06-2.06.94zm10 10l.94 2.06.94-2.06 2.06-.94-2.06-.94-.94-2.06-.94 2.06-2.06.94z\"/><path d=\"M17.41 7.96l-1.37-1.37c-.4-.4-.92-.59-1.43-.59-.52 0-1.04.2-1.43.59L10.3 9.45l-7.72 7.72c-.78.78-.78 2.05 0 2.83L4 21.41c.39.39.9.59 1.41.59.51 0 1.02-.2 1.41-.59l7.78-7.78 2.81-2.81c.8-.78.8-2.07 0-2.86zM5.41 20L4 18.59l7.72-7.72 1.47 1.35L5.41 20z\"/>\n",
       "  </svg>\n",
       "      </button>\n",
       "      \n",
       "  <style>\n",
       "    .colab-df-container {\n",
       "      display:flex;\n",
       "      flex-wrap:wrap;\n",
       "      gap: 12px;\n",
       "    }\n",
       "\n",
       "    .colab-df-convert {\n",
       "      background-color: #E8F0FE;\n",
       "      border: none;\n",
       "      border-radius: 50%;\n",
       "      cursor: pointer;\n",
       "      display: none;\n",
       "      fill: #1967D2;\n",
       "      height: 32px;\n",
       "      padding: 0 0 0 0;\n",
       "      width: 32px;\n",
       "    }\n",
       "\n",
       "    .colab-df-convert:hover {\n",
       "      background-color: #E2EBFA;\n",
       "      box-shadow: 0px 1px 2px rgba(60, 64, 67, 0.3), 0px 1px 3px 1px rgba(60, 64, 67, 0.15);\n",
       "      fill: #174EA6;\n",
       "    }\n",
       "\n",
       "    [theme=dark] .colab-df-convert {\n",
       "      background-color: #3B4455;\n",
       "      fill: #D2E3FC;\n",
       "    }\n",
       "\n",
       "    [theme=dark] .colab-df-convert:hover {\n",
       "      background-color: #434B5C;\n",
       "      box-shadow: 0px 1px 3px 1px rgba(0, 0, 0, 0.15);\n",
       "      filter: drop-shadow(0px 1px 2px rgba(0, 0, 0, 0.3));\n",
       "      fill: #FFFFFF;\n",
       "    }\n",
       "  </style>\n",
       "\n",
       "      <script>\n",
       "        const buttonEl =\n",
       "          document.querySelector('#df-3b73d1a6-cf9e-4459-8785-294ba67442d8 button.colab-df-convert');\n",
       "        buttonEl.style.display =\n",
       "          google.colab.kernel.accessAllowed ? 'block' : 'none';\n",
       "\n",
       "        async function convertToInteractive(key) {\n",
       "          const element = document.querySelector('#df-3b73d1a6-cf9e-4459-8785-294ba67442d8');\n",
       "          const dataTable =\n",
       "            await google.colab.kernel.invokeFunction('convertToInteractive',\n",
       "                                                     [key], {});\n",
       "          if (!dataTable) return;\n",
       "\n",
       "          const docLinkHtml = 'Like what you see? Visit the ' +\n",
       "            '<a target=\"_blank\" href=https://colab.research.google.com/notebooks/data_table.ipynb>data table notebook</a>'\n",
       "            + ' to learn more about interactive tables.';\n",
       "          element.innerHTML = '';\n",
       "          dataTable['output_type'] = 'display_data';\n",
       "          await google.colab.output.renderOutput(dataTable, element);\n",
       "          const docLink = document.createElement('div');\n",
       "          docLink.innerHTML = docLinkHtml;\n",
       "          element.appendChild(docLink);\n",
       "        }\n",
       "      </script>\n",
       "    </div>\n",
       "  </div>\n",
       "  "
      ],
      "text/plain": [
       "                    model  f1 score\n",
       "0           MultinomialNB  0.998396\n",
       "1      LogisticRegression  0.995874\n",
       "2  RandomForestClassifier  0.987065\n",
       "3                     SVC  0.995993"
      ]
     },
     "execution_count": 22,
     "metadata": {},
     "output_type": "execute_result"
    }
   ],
   "source": [
    "# let's create a Dataframe to tabulate the performance of various models\n",
    "base_models_performance_df = pd.DataFrame(\n",
    "    zip([i[0] for i in fitted_models], f1_scores),\n",
    "    columns = ['model', 'f1 score']\n",
    ")\n",
    "# and view the output as a table\n",
    "base_models_performance_df"
   ]
  },
  {
   "cell_type": "markdown",
   "id": "084aa83e",
   "metadata": {
    "id": "084aa83e"
   },
   "source": [
    "Looking at the data, we can see that the all models perform better, with the MultinomialNB model being the best."
   ]
  },
  {
   "cell_type": "markdown",
   "id": "6dff7f19",
   "metadata": {
    "id": "6dff7f19"
   },
   "source": [
    "## 3.3. Model Tuning"
   ]
  },
  {
   "cell_type": "markdown",
   "id": "2aade45a",
   "metadata": {
    "id": "2aade45a"
   },
   "source": [
    "Now, we will tune our model with different parameter to see if we can get an even better performing model. From tuned models we will then select the best scoring model, using f1 score, as the final model to use.\n",
    "But first we will create a function that takes in o the ``X_train``, ``y_train`` and our models and then fit a tuned model on our training data before finally evaluate their performance"
   ]
  },
  {
   "cell_type": "code",
   "execution_count": 23,
   "id": "678fa3cc",
   "metadata": {
    "id": "678fa3cc"
   },
   "outputs": [],
   "source": [
    "# Function to tune our base models\n",
    "# and find the optimal params for each of our model \n",
    "# We use the f1 score as our scoring criteria\n",
    "# and a cross-validation splitting (cv) of 10\n",
    "\n",
    "def tuned_models(X_train, y_train, models):\n",
    "    tuned_models = [] # initialise an empty list\n",
    "    for item in models:\n",
    "        model = item['model'] # get the model object instance\n",
    "        param_grid = item['param_grid'] # get the parameters that will be used for tuning\n",
    "        # define the grid instance\n",
    "        grid =  GridSearchCV(\n",
    "            model, # model instance\n",
    "            param_grid = param_grid, # hyper-parameters\n",
    "            cv = 10, # cross-validation splitting\n",
    "            scoring = 'f1_weighted', # f1_scoring\n",
    "            refit=True\n",
    "        )\n",
    "        print(f'Fitting {model.__class__.__name__} model....')\n",
    "        grid.fit(X_train, y_train) # fit the grid to the X-train and the y_train\n",
    "        tuned_models.append({ # add to tuned_models list the\n",
    "            'name': model.__class__.__name__, # model name\n",
    "            'tuned model': grid, # best model instance\n",
    "            'best params': grid.best_params_, # best model parameters\n",
    "            'f1 score': grid.best_score_, # best f1 score\n",
    "            'refit time': grid.refit_time_ # the time the model took to refit the data\n",
    "        })\n",
    "        print(f'Finished fitting {grid.best_estimator_}')\n",
    "        \n",
    "    return tuned_models"
   ]
  },
  {
   "cell_type": "markdown",
   "id": "30f34607",
   "metadata": {
    "id": "30f34607"
   },
   "source": [
    "Let's now tune our models"
   ]
  },
  {
   "cell_type": "code",
   "execution_count": 25,
   "id": "bc30c068",
   "metadata": {
    "colab": {
     "base_uri": "https://localhost:8080/"
    },
    "id": "bc30c068",
    "outputId": "b92dde63-1ed4-42f5-ae4d-4859ebdd7a40"
   },
   "outputs": [
    {
     "name": "stdout",
     "output_type": "stream",
     "text": [
      "Fitting MultinomialNB model....\n",
      "Finished fitting MultinomialNB(alpha=0.1)\n",
      "Fitting LogisticRegression model....\n",
      "Finished fitting LogisticRegression(C=0.1)\n",
      "Fitting RandomForestClassifier model....\n",
      "Finished fitting RandomForestClassifier(max_depth=40, n_estimators=200)\n",
      "Fitting SVC model....\n",
      "Finished fitting SVC(gamma=0.1)\n"
     ]
    }
   ],
   "source": [
    "# Tuning the models' parameters to produce the best model estimators\n",
    "tuned_models = tuned_models(X_train, y_train, models_list)"
   ]
  },
  {
   "cell_type": "markdown",
   "id": "2abe8248",
   "metadata": {
    "id": "2abe8248"
   },
   "source": [
    "For the tuned models, let's view the f1 score of each tuned model. We then will selected the model with the overall highest *f1 score* and set its model as our best classifier."
   ]
  },
  {
   "cell_type": "code",
   "execution_count": 26,
   "id": "76fd9356",
   "metadata": {
    "colab": {
     "base_uri": "https://localhost:8080/",
     "height": 175
    },
    "id": "76fd9356",
    "outputId": "31477c5c-2426-4c8d-c209-c8412679a2ae"
   },
   "outputs": [
    {
     "data": {
      "text/html": [
       "\n",
       "  <div id=\"df-480d3178-cb7c-4754-ba2c-c722e8680434\">\n",
       "    <div class=\"colab-df-container\">\n",
       "      <div>\n",
       "<style scoped>\n",
       "    .dataframe tbody tr th:only-of-type {\n",
       "        vertical-align: middle;\n",
       "    }\n",
       "\n",
       "    .dataframe tbody tr th {\n",
       "        vertical-align: top;\n",
       "    }\n",
       "\n",
       "    .dataframe thead th {\n",
       "        text-align: right;\n",
       "    }\n",
       "</style>\n",
       "<table border=\"1\" class=\"dataframe\">\n",
       "  <thead>\n",
       "    <tr style=\"text-align: right;\">\n",
       "      <th></th>\n",
       "      <th>model</th>\n",
       "      <th>f1 score</th>\n",
       "      <th>refit time</th>\n",
       "    </tr>\n",
       "  </thead>\n",
       "  <tbody>\n",
       "    <tr>\n",
       "      <th>0</th>\n",
       "      <td>MultinomialNB</td>\n",
       "      <td>0.999017</td>\n",
       "      <td>0.099051</td>\n",
       "    </tr>\n",
       "    <tr>\n",
       "      <th>1</th>\n",
       "      <td>LogisticRegression</td>\n",
       "      <td>0.990382</td>\n",
       "      <td>23.639994</td>\n",
       "    </tr>\n",
       "    <tr>\n",
       "      <th>2</th>\n",
       "      <td>RandomForestClassifier</td>\n",
       "      <td>0.970235</td>\n",
       "      <td>29.287798</td>\n",
       "    </tr>\n",
       "    <tr>\n",
       "      <th>3</th>\n",
       "      <td>SVC</td>\n",
       "      <td>0.992937</td>\n",
       "      <td>99.169940</td>\n",
       "    </tr>\n",
       "  </tbody>\n",
       "</table>\n",
       "</div>\n",
       "      <button class=\"colab-df-convert\" onclick=\"convertToInteractive('df-480d3178-cb7c-4754-ba2c-c722e8680434')\"\n",
       "              title=\"Convert this dataframe to an interactive table.\"\n",
       "              style=\"display:none;\">\n",
       "        \n",
       "  <svg xmlns=\"http://www.w3.org/2000/svg\" height=\"24px\"viewBox=\"0 0 24 24\"\n",
       "       width=\"24px\">\n",
       "    <path d=\"M0 0h24v24H0V0z\" fill=\"none\"/>\n",
       "    <path d=\"M18.56 5.44l.94 2.06.94-2.06 2.06-.94-2.06-.94-.94-2.06-.94 2.06-2.06.94zm-11 1L8.5 8.5l.94-2.06 2.06-.94-2.06-.94L8.5 2.5l-.94 2.06-2.06.94zm10 10l.94 2.06.94-2.06 2.06-.94-2.06-.94-.94-2.06-.94 2.06-2.06.94z\"/><path d=\"M17.41 7.96l-1.37-1.37c-.4-.4-.92-.59-1.43-.59-.52 0-1.04.2-1.43.59L10.3 9.45l-7.72 7.72c-.78.78-.78 2.05 0 2.83L4 21.41c.39.39.9.59 1.41.59.51 0 1.02-.2 1.41-.59l7.78-7.78 2.81-2.81c.8-.78.8-2.07 0-2.86zM5.41 20L4 18.59l7.72-7.72 1.47 1.35L5.41 20z\"/>\n",
       "  </svg>\n",
       "      </button>\n",
       "      \n",
       "  <style>\n",
       "    .colab-df-container {\n",
       "      display:flex;\n",
       "      flex-wrap:wrap;\n",
       "      gap: 12px;\n",
       "    }\n",
       "\n",
       "    .colab-df-convert {\n",
       "      background-color: #E8F0FE;\n",
       "      border: none;\n",
       "      border-radius: 50%;\n",
       "      cursor: pointer;\n",
       "      display: none;\n",
       "      fill: #1967D2;\n",
       "      height: 32px;\n",
       "      padding: 0 0 0 0;\n",
       "      width: 32px;\n",
       "    }\n",
       "\n",
       "    .colab-df-convert:hover {\n",
       "      background-color: #E2EBFA;\n",
       "      box-shadow: 0px 1px 2px rgba(60, 64, 67, 0.3), 0px 1px 3px 1px rgba(60, 64, 67, 0.15);\n",
       "      fill: #174EA6;\n",
       "    }\n",
       "\n",
       "    [theme=dark] .colab-df-convert {\n",
       "      background-color: #3B4455;\n",
       "      fill: #D2E3FC;\n",
       "    }\n",
       "\n",
       "    [theme=dark] .colab-df-convert:hover {\n",
       "      background-color: #434B5C;\n",
       "      box-shadow: 0px 1px 3px 1px rgba(0, 0, 0, 0.15);\n",
       "      filter: drop-shadow(0px 1px 2px rgba(0, 0, 0, 0.3));\n",
       "      fill: #FFFFFF;\n",
       "    }\n",
       "  </style>\n",
       "\n",
       "      <script>\n",
       "        const buttonEl =\n",
       "          document.querySelector('#df-480d3178-cb7c-4754-ba2c-c722e8680434 button.colab-df-convert');\n",
       "        buttonEl.style.display =\n",
       "          google.colab.kernel.accessAllowed ? 'block' : 'none';\n",
       "\n",
       "        async function convertToInteractive(key) {\n",
       "          const element = document.querySelector('#df-480d3178-cb7c-4754-ba2c-c722e8680434');\n",
       "          const dataTable =\n",
       "            await google.colab.kernel.invokeFunction('convertToInteractive',\n",
       "                                                     [key], {});\n",
       "          if (!dataTable) return;\n",
       "\n",
       "          const docLinkHtml = 'Like what you see? Visit the ' +\n",
       "            '<a target=\"_blank\" href=https://colab.research.google.com/notebooks/data_table.ipynb>data table notebook</a>'\n",
       "            + ' to learn more about interactive tables.';\n",
       "          element.innerHTML = '';\n",
       "          dataTable['output_type'] = 'display_data';\n",
       "          await google.colab.output.renderOutput(dataTable, element);\n",
       "          const docLink = document.createElement('div');\n",
       "          docLink.innerHTML = docLinkHtml;\n",
       "          element.appendChild(docLink);\n",
       "        }\n",
       "      </script>\n",
       "    </div>\n",
       "  </div>\n",
       "  "
      ],
      "text/plain": [
       "                    model  f1 score  refit time\n",
       "0           MultinomialNB  0.999017    0.099051\n",
       "1      LogisticRegression  0.990382   23.639994\n",
       "2  RandomForestClassifier  0.970235   29.287798\n",
       "3                     SVC  0.992937   99.169940"
      ]
     },
     "execution_count": 26,
     "metadata": {},
     "output_type": "execute_result"
    }
   ],
   "source": [
    "# let's create a Dataframe to tabulate best estimators and their performance\n",
    "tuned_models_performance_df = pd.DataFrame(\n",
    "    [(model['name'], model['f1 score'], model['refit time']) for model in tuned_models],\n",
    "    columns = ['model', 'f1 score', 'refit time']\n",
    ")\n",
    "# and view the output as a table\n",
    "tuned_models_performance_df"
   ]
  },
  {
   "cell_type": "markdown",
   "id": "6b68186d",
   "metadata": {
    "id": "6b68186d"
   },
   "source": [
    "##  3.4. Model Performance and Selection"
   ]
  },
  {
   "cell_type": "markdown",
   "id": "c17b93f6",
   "metadata": {
    "id": "c17b93f6"
   },
   "source": [
    "Continue with our best model, MultinomialNB(alpha=0.1), we are going to look at the confusion matrix, and show the discrepancies between predicted and actual labels"
   ]
  },
  {
   "cell_type": "code",
   "execution_count": 35,
   "id": "37f25993",
   "metadata": {
    "colab": {
     "base_uri": "https://localhost:8080/",
     "height": 606
    },
    "id": "37f25993",
    "outputId": "c5307c31-848e-4a12-8cb1-a1daaeb1c6b0"
   },
   "outputs": [
    {
     "data": {
      "image/png": "[encoded data removed]",
      "text/plain": [
       "<Figure size 720x720 with 2 Axes>"
      ]
     },
     "metadata": {
      "needs_background": "light"
     },
     "output_type": "display_data"
    }
   ],
   "source": [
    "model = MultinomialNB(alpha=0.1) # instatiate the final model\n",
    "model.fit(X_train, y_train) # train the model\n",
    "y_pred = model.predict(X_test) # let's predict the labels for our test data\n",
    "\n",
    "conf_matrix = metrics.confusion_matrix(y_test, y_pred) # Create a confusion matrix of the model to show the predicted and actual values\n",
    "fig, ax = plt.subplots(figsize=(10,10)) # Create a sub plot for the a heatmap visualisation\n",
    "sns.heatmap(conf_matrix, annot=True, fmt='d',\n",
    "            xticklabels=languages, yticklabels=languages) # create a heatmap visualisation of the confusion matrix\n",
    "plt.ylabel('Actual') # label the y axis\n",
    "plt.xlabel('Predicted') # label the x axis\n",
    "plt.show() # show plot"
   ]
  },
  {
   "cell_type": "markdown",
   "id": "e44d6bdf",
   "metadata": {
    "id": "e44d6bdf"
   },
   "source": [
    "## Kaggle Submission"
   ]
  },
  {
   "cell_type": "code",
   "execution_count": 28,
   "id": "d435d60f",
   "metadata": {
    "colab": {
     "base_uri": "https://localhost:8080/",
     "height": 237
    },
    "id": "d435d60f",
    "outputId": "dbb6977a-1bb9-474f-86de-392e05e38279"
   },
   "outputs": [
    {
     "data": {
      "text/html": [
       "\n",
       "  <div id=\"df-d603f4f0-04af-4ab6-9c1e-bcd255006702\">\n",
       "    <div class=\"colab-df-container\">\n",
       "      <div>\n",
       "<style scoped>\n",
       "    .dataframe tbody tr th:only-of-type {\n",
       "        vertical-align: middle;\n",
       "    }\n",
       "\n",
       "    .dataframe tbody tr th {\n",
       "        vertical-align: top;\n",
       "    }\n",
       "\n",
       "    .dataframe thead th {\n",
       "        text-align: right;\n",
       "    }\n",
       "</style>\n",
       "<table border=\"1\" class=\"dataframe\">\n",
       "  <thead>\n",
       "    <tr style=\"text-align: right;\">\n",
       "      <th></th>\n",
       "      <th>text</th>\n",
       "    </tr>\n",
       "    <tr>\n",
       "      <th>index</th>\n",
       "      <th></th>\n",
       "    </tr>\n",
       "  </thead>\n",
       "  <tbody>\n",
       "    <tr>\n",
       "      <th>1</th>\n",
       "      <td>Mmasepala, fa maemo a a kgethegileng a letlele...</td>\n",
       "    </tr>\n",
       "    <tr>\n",
       "      <th>2</th>\n",
       "      <td>Uzakwaziswa ngokufaneleko nakungafuneka eminye...</td>\n",
       "    </tr>\n",
       "    <tr>\n",
       "      <th>3</th>\n",
       "      <td>Tshivhumbeo tshi fana na ngano dza vhathu.</td>\n",
       "    </tr>\n",
       "    <tr>\n",
       "      <th>4</th>\n",
       "      <td>Kube inja nelikati betingevakala kutsi titsini...</td>\n",
       "    </tr>\n",
       "    <tr>\n",
       "      <th>5</th>\n",
       "      <td>Winste op buitelandse valuta.</td>\n",
       "    </tr>\n",
       "  </tbody>\n",
       "</table>\n",
       "</div>\n",
       "      <button class=\"colab-df-convert\" onclick=\"convertToInteractive('df-d603f4f0-04af-4ab6-9c1e-bcd255006702')\"\n",
       "              title=\"Convert this dataframe to an interactive table.\"\n",
       "              style=\"display:none;\">\n",
       "        \n",
       "  <svg xmlns=\"http://www.w3.org/2000/svg\" height=\"24px\"viewBox=\"0 0 24 24\"\n",
       "       width=\"24px\">\n",
       "    <path d=\"M0 0h24v24H0V0z\" fill=\"none\"/>\n",
       "    <path d=\"M18.56 5.44l.94 2.06.94-2.06 2.06-.94-2.06-.94-.94-2.06-.94 2.06-2.06.94zm-11 1L8.5 8.5l.94-2.06 2.06-.94-2.06-.94L8.5 2.5l-.94 2.06-2.06.94zm10 10l.94 2.06.94-2.06 2.06-.94-2.06-.94-.94-2.06-.94 2.06-2.06.94z\"/><path d=\"M17.41 7.96l-1.37-1.37c-.4-.4-.92-.59-1.43-.59-.52 0-1.04.2-1.43.59L10.3 9.45l-7.72 7.72c-.78.78-.78 2.05 0 2.83L4 21.41c.39.39.9.59 1.41.59.51 0 1.02-.2 1.41-.59l7.78-7.78 2.81-2.81c.8-.78.8-2.07 0-2.86zM5.41 20L4 18.59l7.72-7.72 1.47 1.35L5.41 20z\"/>\n",
       "  </svg>\n",
       "      </button>\n",
       "      \n",
       "  <style>\n",
       "    .colab-df-container {\n",
       "      display:flex;\n",
       "      flex-wrap:wrap;\n",
       "      gap: 12px;\n",
       "    }\n",
       "\n",
       "    .colab-df-convert {\n",
       "      background-color: #E8F0FE;\n",
       "      border: none;\n",
       "      border-radius: 50%;\n",
       "      cursor: pointer;\n",
       "      display: none;\n",
       "      fill: #1967D2;\n",
       "      height: 32px;\n",
       "      padding: 0 0 0 0;\n",
       "      width: 32px;\n",
       "    }\n",
       "\n",
       "    .colab-df-convert:hover {\n",
       "      background-color: #E2EBFA;\n",
       "      box-shadow: 0px 1px 2px rgba(60, 64, 67, 0.3), 0px 1px 3px 1px rgba(60, 64, 67, 0.15);\n",
       "      fill: #174EA6;\n",
       "    }\n",
       "\n",
       "    [theme=dark] .colab-df-convert {\n",
       "      background-color: #3B4455;\n",
       "      fill: #D2E3FC;\n",
       "    }\n",
       "\n",
       "    [theme=dark] .colab-df-convert:hover {\n",
       "      background-color: #434B5C;\n",
       "      box-shadow: 0px 1px 3px 1px rgba(0, 0, 0, 0.15);\n",
       "      filter: drop-shadow(0px 1px 2px rgba(0, 0, 0, 0.3));\n",
       "      fill: #FFFFFF;\n",
       "    }\n",
       "  </style>\n",
       "\n",
       "      <script>\n",
       "        const buttonEl =\n",
       "          document.querySelector('#df-d603f4f0-04af-4ab6-9c1e-bcd255006702 button.colab-df-convert');\n",
       "        buttonEl.style.display =\n",
       "          google.colab.kernel.accessAllowed ? 'block' : 'none';\n",
       "\n",
       "        async function convertToInteractive(key) {\n",
       "          const element = document.querySelector('#df-d603f4f0-04af-4ab6-9c1e-bcd255006702');\n",
       "          const dataTable =\n",
       "            await google.colab.kernel.invokeFunction('convertToInteractive',\n",
       "                                                     [key], {});\n",
       "          if (!dataTable) return;\n",
       "\n",
       "          const docLinkHtml = 'Like what you see? Visit the ' +\n",
       "            '<a target=\"_blank\" href=https://colab.research.google.com/notebooks/data_table.ipynb>data table notebook</a>'\n",
       "            + ' to learn more about interactive tables.';\n",
       "          element.innerHTML = '';\n",
       "          dataTable['output_type'] = 'display_data';\n",
       "          await google.colab.output.renderOutput(dataTable, element);\n",
       "          const docLink = document.createElement('div');\n",
       "          docLink.innerHTML = docLinkHtml;\n",
       "          element.appendChild(docLink);\n",
       "        }\n",
       "      </script>\n",
       "    </div>\n",
       "  </div>\n",
       "  "
      ],
      "text/plain": [
       "                                                    text\n",
       "index                                                   \n",
       "1      Mmasepala, fa maemo a a kgethegileng a letlele...\n",
       "2      Uzakwaziswa ngokufaneleko nakungafuneka eminye...\n",
       "3             Tshivhumbeo tshi fana na ngano dza vhathu.\n",
       "4      Kube inja nelikati betingevakala kutsi titsini...\n",
       "5                          Winste op buitelandse valuta."
      ]
     },
     "execution_count": 28,
     "metadata": {},
     "output_type": "execute_result"
    }
   ],
   "source": [
    "test_df = pd.read_csv('test_set.csv', index_col='index')\n",
    "test_df.head()"
   ]
  },
  {
   "cell_type": "code",
   "execution_count": 29,
   "id": "ec65332a",
   "metadata": {
    "colab": {
     "base_uri": "https://localhost:8080/"
    },
    "id": "ec65332a",
    "outputId": "9e29d2b0-37f1-42f9-d148-572225146f07"
   },
   "outputs": [
    {
     "data": {
      "text/plain": [
       "(5682, 1)"
      ]
     },
     "execution_count": 29,
     "metadata": {},
     "output_type": "execute_result"
    }
   ],
   "source": [
    "test_df.shape"
   ]
  },
  {
   "cell_type": "code",
   "execution_count": 30,
   "id": "72627c1b",
   "metadata": {
    "id": "72627c1b"
   },
   "outputs": [],
   "source": [
    "test_X = vect.transform(test_df['text'])\n",
    "test_X_trans = tfidf_trans.transform(test_X)"
   ]
  },
  {
   "cell_type": "code",
   "execution_count": 32,
   "id": "8826a137",
   "metadata": {
    "id": "8826a137"
   },
   "outputs": [],
   "source": [
    "final_models = [(tuned_model['name'], tuned_model['tuned model']) for tuned_model in tuned_models]"
   ]
  },
  {
   "cell_type": "code",
   "execution_count": 33,
   "id": "71ea123e",
   "metadata": {
    "id": "71ea123e"
   },
   "outputs": [],
   "source": [
    "for (name, model) in final_models:\n",
    "    predictions = le.inverse_transform(model.predict(test_X_trans))\n",
    "    predictions_df = pd.DataFrame(zip(test_df.index, predictions), columns=['index', 'lang_id'])\n",
    "    predictions_df.to_csv(f'{name}_language_prediction.csv', index=False)"
   ]
  }
 ],
 "metadata": {
  "colab": {
   "collapsed_sections": [
    "7ac948b1"
   ],
   "name": "South African Language Identification Hack 2022.ipynb",
   "provenance": []
  },
  "gpuClass": "standard",
  "kernelspec": {
   "display_name": "Python 3 (ipykernel)",
   "language": "python",
   "name": "python3"
  },
  "language_info": {
   "codemirror_mode": {
    "name": "ipython",
    "version": 3
   },
   "file_extension": ".py",
   "mimetype": "text/x-python",
   "name": "python",
   "nbconvert_exporter": "python",
   "pygments_lexer": "ipython3",
   "version": "3.9.7"
  }
 },
 "nbformat": 4,
 "nbformat_minor": 5
}
